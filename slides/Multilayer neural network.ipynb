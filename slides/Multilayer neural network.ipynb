{
 "cells": [
  {
   "cell_type": "markdown",
   "metadata": {},
   "source": [
    "# From Single layer Percetrons to Multi-layer neural networks"
   ]
  },
  {
   "cell_type": "markdown",
   "metadata": {},
   "source": [
    "### Outline\n",
    "* Multi-layer structure\n",
    "* Activation functions\n",
    "* Back-Propagation Algorithm\n",
    "* Stepping through Theano, Lasagne and NoLearn\n",
    "* Tips"
   ]
  },
  {
   "cell_type": "markdown",
   "metadata": {},
   "source": [
    "# Multi-layer structure\n",
    "![Multi-layer neural network](http://ufldl.stanford.edu/tutorial/images/Network3322.png)\n",
    "Source: http://ufldl.stanford.edu/tutorial/supervised/MultiLayerNeuralNetworks/"
   ]
  },
  {
   "cell_type": "markdown",
   "metadata": {},
   "source": [
    "# Activation functions\n",
    "* Choose an activation function which has a simple derivative\n",
    "\n",
    "## Sigmoid function\n",
    "\n",
    "$$ f(x) = \\frac{1}{1+e^{-x}} $$\n",
    "\n",
    "$$ f'(x) = f(x) (1-f(x)) $$"
   ]
  },
  {
   "cell_type": "code",
   "execution_count": 1,
   "metadata": {
    "collapsed": false
   },
   "outputs": [
    {
     "data": {
      "text/plain": [
       "(-5.0, 5.0)"
      ]
     },
     "execution_count": 1,
     "metadata": {},
     "output_type": "execute_result"
    },
    {
     "data": {
      "image/png": "[encoded data removed]",
      "text/plain": [
       "<matplotlib.figure.Figure at 0x10465f990>"
      ]
     },
     "metadata": {},
     "output_type": "display_data"
    }
   ],
   "source": [
    "%matplotlib inline\n",
    "import numpy as np\n",
    "import matplotlib.pyplot as plt\n",
    "\n",
    "x = np.linspace(-5, 5, 1000)\n",
    "f = 1/(1+np.exp(-(x))) # +0.1 to avoid dividing by 0\n",
    "fig = plt.figure(figsize=(10,5))\n",
    "ax = fig.gca()\n",
    "ax.grid()\n",
    "plt.plot(x, f, color='black')\n",
    "plt.xlim(x.min(), x.max())"
   ]
  },
  {
   "cell_type": "markdown",
   "metadata": {
    "collapsed": true
   },
   "source": [
    "## Hyperbolic tangent function\n",
    "\n",
    "$$ f(x) = \\frac{e^x - e^{-x}}{e^x + e^{-x}} $$\n",
    "\n",
    "$$ f(x) = 2 * \\frac{1}{1+e^{-2x}} - 1$$\n",
    "\n",
    "$$ f'(x) = 1 - f(x)^2$$"
   ]
  },
  {
   "cell_type": "code",
   "execution_count": 2,
   "metadata": {
    "collapsed": false
   },
   "outputs": [
    {
     "data": {
      "text/plain": [
       "(-5.0, 5.0)"
      ]
     },
     "execution_count": 2,
     "metadata": {},
     "output_type": "execute_result"
    },
    {
     "data": {
      "image/png": "[encoded data removed]",
      "text/plain": [
       "<matplotlib.figure.Figure at 0x106480650>"
      ]
     },
     "metadata": {},
     "output_type": "display_data"
    }
   ],
   "source": [
    "%matplotlib inline\n",
    "import numpy as np\n",
    "import matplotlib.pyplot as plt\n",
    "\n",
    "x = np.linspace(-5, 5, 1000)\n",
    "f = 2/(1+np.exp(-(2*x)))-1 # +0.1 to avoid dividing by 0\n",
    "fig = plt.figure(figsize=(10,5))\n",
    "ax = fig.gca()\n",
    "ax.grid()\n",
    "plt.plot(x, f, color='black')\n",
    "plt.xlim(x.min(), x.max())"
   ]
  },
  {
   "cell_type": "markdown",
   "metadata": {
    "collapsed": true
   },
   "source": [
    "* [Great comparison of activation functions](https://en.wikipedia.org/wiki/Activation_function)"
   ]
  },
  {
   "cell_type": "markdown",
   "metadata": {},
   "source": [
    "# Backpropagation Algorithm\n",
    "\n",
    "1. Compute forward pass by calculating the activations for $a^{(2)}$ and $a^{(3)}$\n",
    "2. Calculate the cost function $$ J(w) = \\frac{1}{2}(a^{(3)} - y)^2$$\n",
    "3. Calculate the errors $$ \\delta^{(3)} = a^{(3)} - y $$\n",
    "4. Calculate the error for the hidden layer $$ \\delta^{(2)} = (W^{(2)})^T \\delta^{(3)} * \\frac{\\delta \\phi (z^{(2)})}{\\delta z^{(2)}}$$\n",
    "Interestingly, $$ \\frac{\\delta \\phi (z^{(2)})}{\\delta z^{(2)}} = (a^{(2)} \\dot (1-a^{(2)}))$$ \n",
    "\n",
    "5. Calculate the change of the weights\n",
    "$$ \\Delta^{(l)}_{i,j} = \\Delta^{(l)}_{i,j} + a^{(l)}_{j} \\delta^{(l+1)}_{i}$$\n",
    "6. Update the weights\n",
    "$$ W^{(l)} = W^{(l)} - \\eta \\Delta^{(l)} $$"
   ]
  },
  {
   "cell_type": "markdown",
   "metadata": {
    "collapsed": true
   },
   "source": [
    " "
   ]
  },
  {
   "cell_type": "markdown",
   "metadata": {},
   "source": [
    "# Tools to calculate neural networks\n",
    "\n",
    " * Theano: Symbolic computation library for Python (Cuda support)\n",
    " * Lasagne: Neural network library based on Theano\n",
    " * NoLearn: Python wrapper for Lasagne\n"
   ]
  },
  {
   "cell_type": "markdown",
   "metadata": {},
   "source": [
    "## NoLearn\n",
    "In NoLearn, you can define the network layers as a Python list\n",
    "\n",
    "```\n",
    "layers = [\n",
    "    (InputLayer, {'shape': (1, X.shape[1],)}),\n",
    "    (DenseLayer, {'num_units': 2, 'nonlinearity': sigmoid}),\n",
    "    (DenseLayer, {'num_units': 2, 'nonlinearity': softmax}),\n",
    "]\n",
    "```\n",
    "\n",
    "and pass it to the neural network definition\n",
    "```\n",
    "net1 = NeuralNet(\n",
    "    layers=layers,\n",
    "    max_epochs=100,\n",
    "    update_learning_rate=1,\n",
    "    train_split=TrainSplit(eval_size=0),\n",
    "    verbose=3,\n",
    ")\n",
    "```\n",
    "\n",
    "Use `net.fit(X, y)` and `net.predict(X)` to train and for your prediction, respectively."
   ]
  },
  {
   "cell_type": "markdown",
   "metadata": {},
   "source": [
    " "
   ]
  },
  {
   "cell_type": "code",
   "execution_count": null,
   "metadata": {
    "collapsed": true
   },
   "outputs": [],
   "source": [
    "## Things to do:\n",
    "* "
   ]
  },
  {
   "cell_type": "markdown",
   "metadata": {},
   "source": [
    "# XOR prediction with a Multi-layer neural network"
   ]
  },
  {
   "cell_type": "code",
   "execution_count": 3,
   "metadata": {
    "collapsed": false
   },
   "outputs": [
    {
     "name": "stdout",
     "output_type": "stream",
     "text": [
      "# Neural Network with 12 learnable parameters\n",
      "\n",
      "## Layer information\n",
      "\n",
      "  #  name      size\n",
      "---  ------  ------\n",
      "  0  input0       2\n",
      "  1  dense1       2\n",
      "  2  dense2       2\n",
      "\n",
      "  epoch    train loss    valid loss    train/val    valid acc  dur\n",
      "-------  ------------  ------------  -----------  -----------  -----\n",
      "      1       \u001b[36m0.86845\u001b[0m           nan          nan          nan  0.00s\n",
      "      2       \u001b[36m0.70835\u001b[0m           nan          nan          nan  0.00s\n",
      "      3       0.72555           nan          nan          nan  0.00s\n",
      "      4       \u001b[36m0.69603\u001b[0m           nan          nan          nan  0.00s\n",
      "      5       \u001b[36m0.68923\u001b[0m           nan          nan          nan  0.00s\n",
      "      6       0.68932           nan          nan          nan  0.00s\n",
      "      7       \u001b[36m0.68814\u001b[0m           nan          nan          nan  0.00s\n",
      "      8       \u001b[36m0.68718\u001b[0m           nan          nan          nan  0.00s\n",
      "      9       \u001b[36m0.68629\u001b[0m           nan          nan          nan  0.00s\n",
      "     10       \u001b[36m0.68522\u001b[0m           nan          nan          nan  0.00s\n",
      "     11       \u001b[36m0.68393\u001b[0m           nan          nan          nan  0.00s\n",
      "     12       \u001b[36m0.68238\u001b[0m           nan          nan          nan  0.00s\n",
      "     13       \u001b[36m0.68050\u001b[0m           nan          nan          nan  0.00s\n",
      "     14       \u001b[36m0.67820\u001b[0m           nan          nan          nan  0.00s\n",
      "     15       \u001b[36m0.67541\u001b[0m           nan          nan          nan  0.00s\n",
      "     16       \u001b[36m0.67202\u001b[0m           nan          nan          nan  0.00s\n",
      "     17       \u001b[36m0.66790\u001b[0m           nan          nan          nan  0.00s\n",
      "     18       \u001b[36m0.66293\u001b[0m           nan          nan          nan  0.00s\n",
      "     19       \u001b[36m0.65695\u001b[0m           nan          nan          nan  0.00s\n",
      "     20       \u001b[36m0.64980\u001b[0m           nan          nan          nan  0.00s\n",
      "     21       \u001b[36m0.64132\u001b[0m           nan          nan          nan  0.00s\n",
      "     22       \u001b[36m0.63133\u001b[0m           nan          nan          nan  0.00s\n",
      "     23       \u001b[36m0.61965\u001b[0m           nan          nan          nan  0.00s\n",
      "     24       \u001b[36m0.60608\u001b[0m           nan          nan          nan  0.00s\n",
      "     25       \u001b[36m0.59043\u001b[0m           nan          nan          nan  0.00s\n",
      "     26       \u001b[36m0.57243\u001b[0m           nan          nan          nan  0.00s\n",
      "     27       \u001b[36m0.55180\u001b[0m           nan          nan          nan  0.00s\n",
      "     28       \u001b[36m0.52819\u001b[0m           nan          nan          nan  0.00s\n",
      "     29       \u001b[36m0.50121\u001b[0m           nan          nan          nan  0.00s\n",
      "     30       \u001b[36m0.47049\u001b[0m           nan          nan          nan  0.00s\n",
      "     31       \u001b[36m0.43581\u001b[0m           nan          nan          nan  0.00s\n",
      "     32       \u001b[36m0.39730\u001b[0m           nan          nan          nan  0.00s\n",
      "     33       \u001b[36m0.35560\u001b[0m           nan          nan          nan  0.00s\n",
      "     34       \u001b[36m0.31197\u001b[0m           nan          nan          nan  0.00s\n",
      "     35       \u001b[36m0.26820\u001b[0m           nan          nan          nan  0.00s\n",
      "     36       \u001b[36m0.22627\u001b[0m           nan          nan          nan  0.00s\n",
      "     37       \u001b[36m0.18792\u001b[0m           nan          nan          nan  0.00s\n",
      "     38       \u001b[36m0.15432\u001b[0m           nan          nan          nan  0.00s\n",
      "     39       \u001b[36m0.12592\u001b[0m           nan          nan          nan  0.00s\n",
      "     40       \u001b[36m0.10257\u001b[0m           nan          nan          nan  0.00s\n",
      "     41       \u001b[36m0.08375\u001b[0m           nan          nan          nan  0.00s\n",
      "     42       \u001b[36m0.06877\u001b[0m           nan          nan          nan  0.00s\n",
      "     43       \u001b[36m0.05691\u001b[0m           nan          nan          nan  0.00s\n",
      "     44       \u001b[36m0.04755\u001b[0m           nan          nan          nan  0.00s\n",
      "     45       \u001b[36m0.04012\u001b[0m           nan          nan          nan  0.00s\n",
      "     46       \u001b[36m0.03422\u001b[0m           nan          nan          nan  0.00s\n",
      "     47       \u001b[36m0.02949\u001b[0m           nan          nan          nan  0.00s\n",
      "     48       \u001b[36m0.02568\u001b[0m           nan          nan          nan  0.00s\n",
      "     49       \u001b[36m0.02257\u001b[0m           nan          nan          nan  0.00s\n",
      "     50       \u001b[36m0.02003\u001b[0m           nan          nan          nan  0.00s\n",
      "     51       \u001b[36m0.01793\u001b[0m           nan          nan          nan  0.00s\n",
      "     52       \u001b[36m0.01618\u001b[0m           nan          nan          nan  0.00s\n",
      "     53       \u001b[36m0.01472\u001b[0m           nan          nan          nan  0.00s\n",
      "     54       \u001b[36m0.01348\u001b[0m           nan          nan          nan  0.00s\n",
      "     55       \u001b[36m0.01242\u001b[0m           nan          nan          nan  0.00s\n",
      "     56       \u001b[36m0.01152\u001b[0m           nan          nan          nan  0.00s\n",
      "     57       \u001b[36m0.01074\u001b[0m           nan          nan          nan  0.00s\n",
      "     58       \u001b[36m0.01006\u001b[0m           nan          nan          nan  0.00s\n",
      "     59       \u001b[36m0.00947\u001b[0m           nan          nan          nan  0.00s\n",
      "     60       \u001b[36m0.00895\u001b[0m           nan          nan          nan  0.00s\n",
      "     61       \u001b[36m0.00850\u001b[0m           nan          nan          nan  0.00s\n",
      "     62       \u001b[36m0.00810\u001b[0m           nan          nan          nan  0.00s\n",
      "     63       \u001b[36m0.00774\u001b[0m           nan          nan          nan  0.00s\n",
      "     64       \u001b[36m0.00742\u001b[0m           nan          nan          nan  0.00s\n",
      "     65       \u001b[36m0.00713\u001b[0m           nan          nan          nan  0.00s\n",
      "     66       \u001b[36m0.00687\u001b[0m           nan          nan          nan  0.00s\n",
      "     67       \u001b[36m0.00664\u001b[0m           nan          nan          nan  0.00s\n",
      "     68       \u001b[36m0.00643\u001b[0m           nan          nan          nan  0.00s\n",
      "     69       \u001b[36m0.00623\u001b[0m           nan          nan          nan  0.00s\n",
      "     70       \u001b[36m0.00606\u001b[0m           nan          nan          nan  0.00s\n",
      "     71       \u001b[36m0.00589\u001b[0m           nan          nan          nan  0.00s\n",
      "     72       \u001b[36m0.00575\u001b[0m           nan          nan          nan  0.00s\n",
      "     73       \u001b[36m0.00561\u001b[0m           nan          nan          nan  0.00s\n",
      "     74       \u001b[36m0.00548\u001b[0m           nan          nan          nan  0.00s\n",
      "     75       \u001b[36m0.00537\u001b[0m           nan          nan          nan  0.00s\n",
      "     76       \u001b[36m0.00526\u001b[0m           nan          nan          nan  0.00s\n",
      "     77       \u001b[36m0.00515\u001b[0m           nan          nan          nan  0.00s\n",
      "     78       \u001b[36m0.00506\u001b[0m           nan          nan          nan  0.00s\n",
      "     79       \u001b[36m0.00497\u001b[0m           nan          nan          nan  0.00s\n",
      "     80       \u001b[36m0.00489\u001b[0m           nan          nan          nan  0.00s\n",
      "     81       \u001b[36m0.00481\u001b[0m           nan          nan          nan  0.00s\n",
      "     82       \u001b[36m0.00473\u001b[0m           nan          nan          nan  0.00s\n",
      "     83       \u001b[36m0.00466\u001b[0m           nan          nan          nan  0.00s\n",
      "     84       \u001b[36m0.00460\u001b[0m           nan          nan          nan  0.00s\n",
      "     85       \u001b[36m0.00453\u001b[0m           nan          nan          nan  0.00s\n",
      "     86       \u001b[36m0.00447\u001b[0m           nan          nan          nan  0.00s\n",
      "     87       \u001b[36m0.00441\u001b[0m           nan          nan          nan  0.00s\n",
      "     88       \u001b[36m0.00436\u001b[0m           nan          nan          nan  0.00s\n",
      "     89       \u001b[36m0.00430\u001b[0m           nan          nan          nan  0.00s\n",
      "     90       \u001b[36m0.00425\u001b[0m           nan          nan          nan  0.00s\n",
      "     91       \u001b[36m0.00420\u001b[0m           nan          nan          nan  0.00s\n",
      "     92       \u001b[36m0.00416\u001b[0m           nan          nan          nan  0.00s\n",
      "     93       \u001b[36m0.00411\u001b[0m           nan          nan          nan  0.00s\n",
      "     94       \u001b[36m0.00407\u001b[0m           nan          nan          nan  0.00s\n",
      "     95       \u001b[36m0.00403\u001b[0m           nan          nan          nan  0.00s\n",
      "     96       \u001b[36m0.00399\u001b[0m           nan          nan          nan  0.00s\n",
      "     97       \u001b[36m0.00395\u001b[0m           nan          nan          nan  0.00s\n",
      "     98       \u001b[36m0.00391\u001b[0m           nan          nan          nan  0.00s\n",
      "     99       \u001b[36m0.00387\u001b[0m           nan          nan          nan  0.00s\n",
      "    100       \u001b[36m0.00383\u001b[0m           nan          nan          nan  0.00s\n"
     ]
    },
    {
     "data": {
      "text/plain": [
       "NeuralNet(X_tensor_type=None,\n",
       "     batch_iterator_test=<nolearn.lasagne.base.BatchIterator object at 0x107ac1590>,\n",
       "     batch_iterator_train=<nolearn.lasagne.base.BatchIterator object at 0x107ac1450>,\n",
       "     custom_scores=None,\n",
       "     layers=[(<class 'lasagne.layers.input.InputLayer'>, {'shape': (1, 2)}), (<class 'lasagne.layers.dense.DenseLayer'>, {'num_units': 2, 'nonlinearity': <function sigmoid at 0x107af6aa0>}), (<class 'lasagne.layers.dense.DenseLayer'>, {'num_units': 2, 'nonlinearity': <function softmax at 0x107af6de8>})],\n",
       "     loss=None, max_epochs=100, more_params={},\n",
       "     objective=<function objective at 0x1060049b0>,\n",
       "     objective_loss_function=<function categorical_crossentropy at 0x105f53050>,\n",
       "     on_batch_finished=[],\n",
       "     on_epoch_finished=[<nolearn.lasagne.handlers.PrintLog instance at 0x1084357e8>],\n",
       "     on_training_finished=[],\n",
       "     on_training_started=[<nolearn.lasagne.handlers.PrintLayerInfo instance at 0x108435ea8>],\n",
       "     regression=False,\n",
       "     train_split=<nolearn.lasagne.base.TrainSplit object at 0x108445110>,\n",
       "     update=<function nesterov_momentum at 0x105f53938>,\n",
       "     update_learning_rate=1, use_label_encoder=False, verbose=3,\n",
       "     y_tensor_type=TensorType(int32, vector))"
      ]
     },
     "execution_count": 3,
     "metadata": {},
     "output_type": "execute_result"
    }
   ],
   "source": [
    "import numpy as np\n",
    "\n",
    "from lasagne.layers import DenseLayer\n",
    "from lasagne.layers import InputLayer\n",
    "from lasagne.nonlinearities import softmax, sigmoid\n",
    "\n",
    "from nolearn.lasagne import TrainSplit\n",
    "from nolearn.lasagne import NeuralNet\n",
    "\n",
    "data_set = np.array([\n",
    "    [0, 0, 0],\n",
    "    [0, 1, 1],\n",
    "    [1, 0, 1],\n",
    "    [1, 1, 0],\n",
    "])\n",
    "\n",
    "X = data_set[:, :2]\n",
    "y = data_set[:, 2:]\n",
    "X = np.array(X).astype(np.float32)\n",
    "y = np.array(y).ravel().astype(np.int32)\n",
    "\n",
    "layers = [\n",
    "    (InputLayer, {'shape': (1, X.shape[1],)}),\n",
    "    (DenseLayer, {'num_units': 2, 'nonlinearity': sigmoid}),\n",
    "    (DenseLayer, {'num_units': 2, 'nonlinearity': softmax}),\n",
    "]\n",
    "\n",
    "net1 = NeuralNet(\n",
    "    layers=layers,\n",
    "    max_epochs=100,\n",
    "    update_learning_rate=1,\n",
    "    train_split=TrainSplit(eval_size=0),\n",
    "    verbose=3,  \n",
    ")\n",
    "net1.fit(X, y)"
   ]
  },
  {
   "cell_type": "code",
   "execution_count": 4,
   "metadata": {
    "collapsed": false
   },
   "outputs": [
    {
     "data": {
      "text/plain": [
       "array([0])"
      ]
     },
     "execution_count": 4,
     "metadata": {},
     "output_type": "execute_result"
    }
   ],
   "source": [
    "# Test the model by predicting the output for (1, 1)\n",
    "net1.predict([[1, 1],])"
   ]
  },
  {
   "cell_type": "markdown",
   "metadata": {},
   "source": [
    "# Credit card approval prediction"
   ]
  },
  {
   "cell_type": "code",
   "execution_count": 6,
   "metadata": {
    "collapsed": false
   },
   "outputs": [
    {
     "ename": "TypeError",
     "evalue": "nesterov_momentum() takes at least 3 arguments (2 given)",
     "output_type": "error",
     "traceback": [
      "\u001b[0;31m---------------------------------------------------------------------------\u001b[0m",
      "\u001b[0;31mTypeError\u001b[0m                                 Traceback (most recent call last)",
      "\u001b[0;32m<ipython-input-6-23a443c431c6>\u001b[0m in \u001b[0;36m<module>\u001b[0;34m()\u001b[0m\n\u001b[1;32m     37\u001b[0m     )\n\u001b[1;32m     38\u001b[0m \u001b[0;34m\u001b[0m\u001b[0m\n\u001b[0;32m---> 39\u001b[0;31m \u001b[0mcredit_approval_net\u001b[0m\u001b[0;34m.\u001b[0m\u001b[0mfit\u001b[0m\u001b[0;34m(\u001b[0m\u001b[0mX\u001b[0m\u001b[0;34m,\u001b[0m \u001b[0my\u001b[0m\u001b[0;34m)\u001b[0m\u001b[0;34m\u001b[0m\u001b[0m\n\u001b[0m",
      "\u001b[0;32m/Users/birajbisht/anaconda/lib/python2.7/site-packages/nolearn/lasagne/base.pyc\u001b[0m in \u001b[0;36mfit\u001b[0;34m(self, X, y, epochs)\u001b[0m\n\u001b[1;32m    516\u001b[0m             \u001b[0my\u001b[0m \u001b[0;34m=\u001b[0m \u001b[0mself\u001b[0m\u001b[0;34m.\u001b[0m\u001b[0menc_\u001b[0m\u001b[0;34m.\u001b[0m\u001b[0mfit_transform\u001b[0m\u001b[0;34m(\u001b[0m\u001b[0my\u001b[0m\u001b[0;34m)\u001b[0m\u001b[0;34m.\u001b[0m\u001b[0mastype\u001b[0m\u001b[0;34m(\u001b[0m\u001b[0mnp\u001b[0m\u001b[0;34m.\u001b[0m\u001b[0mint32\u001b[0m\u001b[0;34m)\u001b[0m\u001b[0;34m\u001b[0m\u001b[0m\n\u001b[1;32m    517\u001b[0m             \u001b[0mself\u001b[0m\u001b[0;34m.\u001b[0m\u001b[0mclasses_\u001b[0m \u001b[0;34m=\u001b[0m \u001b[0mself\u001b[0m\u001b[0;34m.\u001b[0m\u001b[0menc_\u001b[0m\u001b[0;34m.\u001b[0m\u001b[0mclasses_\u001b[0m\u001b[0;34m\u001b[0m\u001b[0m\n\u001b[0;32m--> 518\u001b[0;31m         \u001b[0mself\u001b[0m\u001b[0;34m.\u001b[0m\u001b[0minitialize\u001b[0m\u001b[0;34m(\u001b[0m\u001b[0;34m)\u001b[0m\u001b[0;34m\u001b[0m\u001b[0m\n\u001b[0m\u001b[1;32m    519\u001b[0m \u001b[0;34m\u001b[0m\u001b[0m\n\u001b[1;32m    520\u001b[0m         \u001b[0;32mtry\u001b[0m\u001b[0;34m:\u001b[0m\u001b[0;34m\u001b[0m\u001b[0m\n",
      "\u001b[0;32m/Users/birajbisht/anaconda/lib/python2.7/site-packages/nolearn/lasagne/base.pyc\u001b[0m in \u001b[0;36minitialize\u001b[0;34m(self)\u001b[0m\n\u001b[1;32m    357\u001b[0m         iter_funcs = self._create_iter_funcs(\n\u001b[1;32m    358\u001b[0m             \u001b[0mself\u001b[0m\u001b[0;34m.\u001b[0m\u001b[0mlayers_\u001b[0m\u001b[0;34m,\u001b[0m \u001b[0mself\u001b[0m\u001b[0;34m.\u001b[0m\u001b[0mobjective\u001b[0m\u001b[0;34m,\u001b[0m \u001b[0mself\u001b[0m\u001b[0;34m.\u001b[0m\u001b[0mupdate\u001b[0m\u001b[0;34m,\u001b[0m\u001b[0;34m\u001b[0m\u001b[0m\n\u001b[0;32m--> 359\u001b[0;31m             \u001b[0mself\u001b[0m\u001b[0;34m.\u001b[0m\u001b[0my_tensor_type\u001b[0m\u001b[0;34m,\u001b[0m\u001b[0;34m\u001b[0m\u001b[0m\n\u001b[0m\u001b[1;32m    360\u001b[0m             )\n\u001b[1;32m    361\u001b[0m         \u001b[0mself\u001b[0m\u001b[0;34m.\u001b[0m\u001b[0mtrain_iter_\u001b[0m\u001b[0;34m,\u001b[0m \u001b[0mself\u001b[0m\u001b[0;34m.\u001b[0m\u001b[0meval_iter_\u001b[0m\u001b[0;34m,\u001b[0m \u001b[0mself\u001b[0m\u001b[0;34m.\u001b[0m\u001b[0mpredict_iter_\u001b[0m \u001b[0;34m=\u001b[0m \u001b[0miter_funcs\u001b[0m\u001b[0;34m\u001b[0m\u001b[0m\n",
      "\u001b[0;32m/Users/birajbisht/anaconda/lib/python2.7/site-packages/nolearn/lasagne/base.pyc\u001b[0m in \u001b[0;36m_create_iter_funcs\u001b[0;34m(self, layers, objective, update, output_type)\u001b[0m\n\u001b[1;32m    481\u001b[0m                 \u001b[0mgrads\u001b[0m\u001b[0;34m[\u001b[0m\u001b[0midx\u001b[0m\u001b[0;34m]\u001b[0m \u001b[0;34m*=\u001b[0m \u001b[0mgrad_scale\u001b[0m\u001b[0;34m\u001b[0m\u001b[0m\n\u001b[1;32m    482\u001b[0m         \u001b[0mupdate_params\u001b[0m \u001b[0;34m=\u001b[0m \u001b[0mself\u001b[0m\u001b[0;34m.\u001b[0m\u001b[0m_get_params_for\u001b[0m\u001b[0;34m(\u001b[0m\u001b[0;34m'update'\u001b[0m\u001b[0;34m)\u001b[0m\u001b[0;34m\u001b[0m\u001b[0m\n\u001b[0;32m--> 483\u001b[0;31m         \u001b[0mupdates\u001b[0m \u001b[0;34m=\u001b[0m \u001b[0mupdate\u001b[0m\u001b[0;34m(\u001b[0m\u001b[0mgrads\u001b[0m\u001b[0;34m,\u001b[0m \u001b[0mall_params\u001b[0m\u001b[0;34m,\u001b[0m \u001b[0;34m**\u001b[0m\u001b[0mupdate_params\u001b[0m\u001b[0;34m)\u001b[0m\u001b[0;34m\u001b[0m\u001b[0m\n\u001b[0m\u001b[1;32m    484\u001b[0m \u001b[0;34m\u001b[0m\u001b[0m\n\u001b[1;32m    485\u001b[0m         input_layers = [layer for layer in layers.values()\n",
      "\u001b[0;31mTypeError\u001b[0m: nesterov_momentum() takes at least 3 arguments (2 given)"
     ]
    }
   ],
   "source": [
    "# data from https://onlinecourses.science.psu.edu/stat857/node/215\n",
    "import pandas as pd\n",
    "import numpy as np\n",
    "from lasagne.layers import DenseLayer\n",
    "from lasagne.layers import InputLayer\n",
    "from lasagne.nonlinearities import softmax, tanh\n",
    "\n",
    "from nolearn.lasagne import NeuralNet\n",
    "from nolearn.lasagne import TrainSplit\n",
    "\n",
    "training_set = pd.read_csv('../../data/German_credit_card_training_500.csv')\n",
    "training_set = training_set.sort_values(\n",
    "    ['Creditability',]).head(\n",
    "    2 * len(training_set[(training_set['Creditability'] == 0)])\n",
    ")\n",
    "# test_set = pd.read_csv('german_credit_dataset/Test50.csv')\n",
    "# extract the creditability column as y vector\n",
    "y = training_set['Creditability'].values\n",
    "# drop the creditability column from the dataset\n",
    "training_set.drop('Creditability', axis=1, inplace=True)\n",
    "\n",
    "# remaining dataset is used as input matrix\n",
    "X = np.array(training_set.values).astype(np.float32)\n",
    "y = np.array(y).astype(np.int32)\n",
    "\n",
    "# apply some very simple normalization to the data\n",
    "X -= X.mean()\n",
    "X /= X.std()\n",
    "\n",
    "credit_approval_net = NeuralNet(\n",
    "    layers=[  # three layers: one hidden layer\n",
    "        (InputLayer, {'shape': (None, X.shape[1],)}),\n",
    "        (DenseLayer, {'num_units': 2, 'nonlinearity': sigmoid}),\n",
    "        (DenseLayer, {'num_units': 2, 'nonlinearity': softmax}),\n",
    "        ],\n",
    "    # setup the training parameters\n",
    "    )\n",
    "\n",
    "credit_approval_net.fit(X, y)"
   ]
  },
  {
   "cell_type": "code",
   "execution_count": null,
   "metadata": {
    "collapsed": false
   },
   "outputs": [],
   "source": [
    "# determine score on test set\n",
    "training_set = pd.read_csv('../../data/German_credit_card_test_500.csv')\n",
    "training_set = training_set.sort_values(\n",
    "    ['Creditability',]).head(\n",
    "    2 * len(training_set[(training_set['Creditability'] == 0)])\n",
    ")\n",
    "# test_set = pd.read_csv('german_credit_dataset/Test50.csv')\n",
    "# extract the creditability column as y vector\n",
    "y_test = training_set['Creditability'].values\n",
    "# drop the creditability column from the dataset\n",
    "training_set.drop('Creditability', axis=1, inplace=True)\n",
    "\n",
    "# remaining dataset is used as input matrix\n",
    "X_test = np.array(training_set.values).astype(np.float32)\n",
    "y_test = np.array(y_test).astype(np.int32)\n",
    "\n",
    "# apply some very simple normalization to the data\n",
    "X_test -= X_test.mean()\n",
    "X_test /= X_test.std()\n",
    "\n",
    "# run test set with test data\n",
    "credit_approval_net.score(X_test, y_test)"
   ]
  },
  {
   "cell_type": "markdown",
   "metadata": {},
   "source": [
    "## Classify hand-written numbers"
   ]
  },
  {
   "cell_type": "code",
   "execution_count": 7,
   "metadata": {
    "collapsed": false
   },
   "outputs": [],
   "source": [
    "import cPickle, gzip, numpy\n",
    "\n",
    "# Load the dataset\n",
    "f = gzip.open('../../data/mnist.pkl.gz', 'rb')\n",
    "training_set, valid_set, test_set = cPickle.load(f)\n",
    "f.close()"
   ]
  },
  {
   "cell_type": "code",
   "execution_count": 8,
   "metadata": {
    "collapsed": false
   },
   "outputs": [],
   "source": [
    "X_train = training_set[0]\n",
    "y_train = training_set[1]\n",
    "X_test = test_set[0]\n",
    "y_test = test_set[1]"
   ]
  },
  {
   "cell_type": "code",
   "execution_count": 10,
   "metadata": {
    "collapsed": false
   },
   "outputs": [
    {
     "ename": "RuntimeError",
     "evalue": "Python is not installed as a framework. The Mac OS X backend will not be able to function correctly if Python is not installed as a framework. See the Python documentation for more information on installing Python as a framework on Mac OS X. Please either reinstall Python as a framework, or try one of the other backends. If you are Working with Matplotlib in a virtual enviroment see 'Working with Matplotlib in Virtual environments' in the Matplotlib FAQ",
     "output_type": "error",
     "traceback": [
      "\u001b[0;31m---------------------------------------------------------------------------\u001b[0m",
      "\u001b[0;31mRuntimeError\u001b[0m                              Traceback (most recent call last)",
      "\u001b[0;32m<ipython-input-10-fd853199cdd7>\u001b[0m in \u001b[0;36m<module>\u001b[0;34m()\u001b[0m\n\u001b[1;32m      1\u001b[0m \u001b[0;32mimport\u001b[0m \u001b[0mmatplotlib\u001b[0m\u001b[0;34m\u001b[0m\u001b[0m\n\u001b[0;32m----> 2\u001b[0;31m \u001b[0;32mimport\u001b[0m \u001b[0mmatplotlib\u001b[0m\u001b[0;34m.\u001b[0m\u001b[0mpyplot\u001b[0m \u001b[0;32mas\u001b[0m \u001b[0mplt\u001b[0m\u001b[0;34m\u001b[0m\u001b[0m\n\u001b[0m\u001b[1;32m      3\u001b[0m \u001b[0mget_ipython\u001b[0m\u001b[0;34m(\u001b[0m\u001b[0;34m)\u001b[0m\u001b[0;34m.\u001b[0m\u001b[0mmagic\u001b[0m\u001b[0;34m(\u001b[0m\u001b[0;34mu'matplotlib inline'\u001b[0m\u001b[0;34m)\u001b[0m\u001b[0;34m\u001b[0m\u001b[0m\n\u001b[1;32m      4\u001b[0m \u001b[0mget_ipython\u001b[0m\u001b[0;34m(\u001b[0m\u001b[0;34m)\u001b[0m\u001b[0;34m.\u001b[0m\u001b[0mmagic\u001b[0m\u001b[0;34m(\u001b[0m\u001b[0;34mu'pylab inline'\u001b[0m\u001b[0;34m)\u001b[0m\u001b[0;34m\u001b[0m\u001b[0m\n\u001b[1;32m      5\u001b[0m \u001b[0;34m\u001b[0m\u001b[0m\n",
      "\u001b[0;32m/Users/birajbisht/anaconda/lib/python2.7/site-packages/matplotlib/pyplot.py\u001b[0m in \u001b[0;36m<module>\u001b[0;34m()\u001b[0m\n\u001b[1;32m    112\u001b[0m \u001b[0;34m\u001b[0m\u001b[0m\n\u001b[1;32m    113\u001b[0m \u001b[0;32mfrom\u001b[0m \u001b[0mmatplotlib\u001b[0m\u001b[0;34m.\u001b[0m\u001b[0mbackends\u001b[0m \u001b[0;32mimport\u001b[0m \u001b[0mpylab_setup\u001b[0m\u001b[0;34m\u001b[0m\u001b[0m\n\u001b[0;32m--> 114\u001b[0;31m \u001b[0m_backend_mod\u001b[0m\u001b[0;34m,\u001b[0m \u001b[0mnew_figure_manager\u001b[0m\u001b[0;34m,\u001b[0m \u001b[0mdraw_if_interactive\u001b[0m\u001b[0;34m,\u001b[0m \u001b[0m_show\u001b[0m \u001b[0;34m=\u001b[0m \u001b[0mpylab_setup\u001b[0m\u001b[0;34m(\u001b[0m\u001b[0;34m)\u001b[0m\u001b[0;34m\u001b[0m\u001b[0m\n\u001b[0m\u001b[1;32m    115\u001b[0m \u001b[0;34m\u001b[0m\u001b[0m\n\u001b[1;32m    116\u001b[0m \u001b[0m_IP_REGISTERED\u001b[0m \u001b[0;34m=\u001b[0m \u001b[0mNone\u001b[0m\u001b[0;34m\u001b[0m\u001b[0m\n",
      "\u001b[0;32m/Users/birajbisht/anaconda/lib/python2.7/site-packages/matplotlib/backends/__init__.pyc\u001b[0m in \u001b[0;36mpylab_setup\u001b[0;34m()\u001b[0m\n\u001b[1;32m     30\u001b[0m     \u001b[0;31m# imports. 0 means only perform absolute imports.\u001b[0m\u001b[0;34m\u001b[0m\u001b[0;34m\u001b[0m\u001b[0m\n\u001b[1;32m     31\u001b[0m     backend_mod = __import__(backend_name,\n\u001b[0;32m---> 32\u001b[0;31m                              globals(),locals(),[backend_name],0)\n\u001b[0m\u001b[1;32m     33\u001b[0m \u001b[0;34m\u001b[0m\u001b[0m\n\u001b[1;32m     34\u001b[0m     \u001b[0;31m# Things we pull in from all backends\u001b[0m\u001b[0;34m\u001b[0m\u001b[0;34m\u001b[0m\u001b[0m\n",
      "\u001b[0;32m/Users/birajbisht/anaconda/lib/python2.7/site-packages/matplotlib/backends/backend_macosx.py\u001b[0m in \u001b[0;36m<module>\u001b[0;34m()\u001b[0m\n\u001b[1;32m     22\u001b[0m \u001b[0;34m\u001b[0m\u001b[0m\n\u001b[1;32m     23\u001b[0m \u001b[0;32mimport\u001b[0m \u001b[0mmatplotlib\u001b[0m\u001b[0;34m\u001b[0m\u001b[0m\n\u001b[0;32m---> 24\u001b[0;31m \u001b[0;32mfrom\u001b[0m \u001b[0mmatplotlib\u001b[0m\u001b[0;34m.\u001b[0m\u001b[0mbackends\u001b[0m \u001b[0;32mimport\u001b[0m \u001b[0m_macosx\u001b[0m\u001b[0;34m\u001b[0m\u001b[0m\n\u001b[0m\u001b[1;32m     25\u001b[0m \u001b[0;34m\u001b[0m\u001b[0m\n\u001b[1;32m     26\u001b[0m \u001b[0;34m\u001b[0m\u001b[0m\n",
      "\u001b[0;31mRuntimeError\u001b[0m: Python is not installed as a framework. The Mac OS X backend will not be able to function correctly if Python is not installed as a framework. See the Python documentation for more information on installing Python as a framework on Mac OS X. Please either reinstall Python as a framework, or try one of the other backends. If you are Working with Matplotlib in a virtual enviroment see 'Working with Matplotlib in Virtual environments' in the Matplotlib FAQ"
     ]
    }
   ],
   "source": [
    "import matplotlib\n",
    "import matplotlib.pyplot as plt\n",
    "%matplotlib inline \n",
    "%pylab inline\n",
    "\n",
    "def get_images(training_set):\n",
    "    \"\"\" Return a list containing the images from the MNIST data\n",
    "    set. Each image is represented as a 2-d numpy array.\n",
    "    \n",
    "    source: https://github.com/mnielsen/neural-networks-and-deep-learning/blob/master/fig/mnist.py\n",
    "    \"\"\"\n",
    "    flattened_images = training_set[0]\n",
    "    return [np.reshape(f, (-1, 28)) for f in flattened_images]\n",
    "\n",
    "def plot_10_by_10_images(images):\n",
    "    \"\"\" Plot 100 MNIST images in a 10 by 10 table. \"\"\"\n",
    "    figs, axes = plt.subplots(4, 4, figsize=(6, 6))\n",
    "    for i in range(4):\n",
    "        for j in range(4):\n",
    "            axes[i, j].imshow(-X_train[i + 4 * j].reshape(28, 28), cmap='gray', interpolation='none')\n",
    "            axes[i, j].set_xticks([])\n",
    "            axes[i, j].set_yticks([])\n",
    "            axes[i, j].set_title(\"Label: {}\".format(y[i + 4 * j]))\n",
    "            axes[i, j].axis('off')\n",
    "    \n",
    "images = get_images(training_set)\n",
    "plot_10_by_10_images(images)"
   ]
  },
  {
   "cell_type": "code",
   "execution_count": null,
   "metadata": {
    "collapsed": false
   },
   "outputs": [],
   "source": [
    "import pandas as pd\n",
    "import numpy as np\n",
    "from lasagne.layers import DenseLayer\n",
    "from lasagne.layers import InputLayer\n",
    "from lasagne.nonlinearities import softmax, tanh\n",
    "\n",
    "from nolearn.lasagne import NeuralNet\n",
    "from nolearn.lasagne import TrainSplit\n",
    "\n",
    "X = X_train.astype(np.float32)\n",
    "y = y_train.astype(np.int32)\n",
    "\n",
    "# apply some very simple normalization to the data\n",
    "X -= X.mean()\n",
    "X /= X.std()\n",
    "\n",
    "mnist_net = NeuralNet(\n",
    "    layers=[  # three layers: one hidden layer\n",
    "        (InputLayer, {'shape': (None, X.shape[1], )}),\n",
    "        (DenseLayer, {'num_units': 50, 'nonlinearity': sigmoid}),\n",
    "        (DenseLayer, {'num_units': 10, 'nonlinearity': softmax}),\n",
    "        ],\n",
    "    update_learning_rate=0.1,\n",
    "    max_epochs=5,  # we want to train this many epochs\n",
    "    verbose=2,\n",
    "    train_split=TrainSplit(eval_size=0.25),\n",
    "    )\n",
    "\n",
    "mnist_net.fit(X, y)"
   ]
  },
  {
   "cell_type": "code",
   "execution_count": null,
   "metadata": {
    "collapsed": false
   },
   "outputs": [],
   "source": [
    "mnist_net.score(X_test, y_test)"
   ]
  },
  {
   "cell_type": "markdown",
   "metadata": {},
   "source": [
    "# Tips"
   ]
  },
  {
   "cell_type": "markdown",
   "metadata": {},
   "source": [
    "* [Effective Backpropagation, pdf](http://yann.lecun.com/exdb/publis/pdf/lecun-98b.pdf)\n",
    "* [Comparison of activation functions](https://en.wikipedia.org/wiki/Activation_function)\n",
    "* [Introduction to Theano](http://on-demand.gputechconf.com/gtc/2015/webinar/deep-learning-course/getting-started-with-theano.pdf)"
   ]
  },
  {
   "cell_type": "code",
   "execution_count": null,
   "metadata": {
    "collapsed": true
   },
   "outputs": [],
   "source": []
  }
 ],
 "metadata": {
  "kernelspec": {
   "display_name": "Python 2",
   "language": "python",
   "name": "python2"
  },
  "language_info": {
   "codemirror_mode": {
    "name": "ipython",
    "version": 2
   },
   "file_extension": ".py",
   "mimetype": "text/x-python",
   "name": "python",
   "nbconvert_exporter": "python",
   "pygments_lexer": "ipython2",
   "version": "2.7.10"
  }
 },
 "nbformat": 4,
 "nbformat_minor": 0
}
