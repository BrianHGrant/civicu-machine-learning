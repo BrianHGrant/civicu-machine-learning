{
 "cells": [
  {
   "cell_type": "markdown",
   "metadata": {},
   "source": [
    "# Day 7 - Neural Networks"
   ]
  },
  {
   "cell_type": "markdown",
   "metadata": {},
   "source": [
    "## Hi, I'm Hannes."
   ]
  },
  {
   "cell_type": "markdown",
   "metadata": {},
   "source": [
    " "
   ]
  },
  {
   "cell_type": "markdown",
   "metadata": {},
   "source": [
    "## Outline for today"
   ]
  },
  {
   "cell_type": "markdown",
   "metadata": {},
   "source": [
    "* Introduction to Neural Networks\n",
    "\n",
    "\n",
    "* Introduction to Perceptrons\n",
    "\n",
    "\n",
    "* Code your own Perceptron\n",
    "\n",
    "    * AND/OR Prediction\n",
    "    * Iris classification\n",
    "\n",
    "\n",
    "* Where are the limits of Perceptrons\n",
    "\n",
    "    * Credit card approval \n",
    "    * XOR problem\n",
    "\n",
    "\n",
    "* Introduction to Multi-layer neural networks\n",
    "\n",
    "\n",
    "* Code your own neural network\n",
    "\n",
    "    * XOR problem\n",
    "    * Credit card approval \n",
    "\n",
    "\n",
    "* Where are the limits of Perceptrons\n",
    "    * Image classification"
   ]
  },
  {
   "cell_type": "markdown",
   "metadata": {},
   "source": [
    "## Before we get started\n",
    "\n",
    "Please install Theano, Lasagne and nolearn "
   ]
  },
  {
   "cell_type": "markdown",
   "metadata": {},
   "source": [
    "```\n",
    "pip install -r https://raw.githubusercontent.com/dnouri/nolearn/master/requirements.txt\n",
    "pip install git+https://github.com/dnouri/nolearn.git@master#egg=nolearn==0.7.git\n",
    "```"
   ]
  },
  {
   "cell_type": "markdown",
   "metadata": {},
   "source": [
    "Test the installation by executing Theano in Python. Please confirm that the Version number is 0.7\n",
    "\n",
    "```\n",
    "import theano\n",
    "theano.__version__\n",
    "```"
   ]
  },
  {
   "cell_type": "markdown",
   "metadata": {},
   "source": [
    "If that isn't the case, please run\n",
    "\n",
    "```\n",
    "pip install --upgrade --no-deps git+git://github.com/Theano/Theano.git\n",
    "```\n",
    "\n",
    "[Source](http://deeplearning.net/software/theano/install.html)"
   ]
  },
  {
   "cell_type": "markdown",
   "metadata": {},
   "source": [
    "## Further Readings\n",
    "\n",
    "### General Introduction\n",
    "![The Master Algorithm](http://t2.gstatic.com/images?q=tbn:ANd9GcTvctDHIzSuyffTPDOL22iOH_p9JJRTUBNy6eT8qKsC9Z6Gx7pp)\n",
    "\n",
    "### Theoretical Background\n",
    "![Rojas](http://dcis.inf.fu-berlin.de/rojas/wp-content/uploads/2015/07/raul_rojas-512x372.jpg)\n",
    "[Neural Networks: A Systematic Introduction by Rojas, Free book](https://page.mi.fu-berlin.de/rojas/neural/neuron.pdf)\n",
    "\n",
    "![Neural Networks & Learning Machines 3rd Edition by Simon Haykin](http://ecx.images-amazon.com/images/I/51b1PWBu6uL._SY344_BO1,204,203,200_.jpg)\n",
    "[Neural Networks & Learning Machines 3rd Edition by Simon Haykin](http://www.powells.com/book/neural-networks-learning-machines-3rd-edition-9780131471399/72-0)\n",
    "### Machine Learning and Python\n",
    "![Machine Learning: An Algorithmic Perspective by Stephen Marsland](http://ecx.images-amazon.com/images/I/41xC5yM5FLL._SY344_BO1,204,203,200_.jpg)\n",
    "[Machine Learning: An Algorithmic Perspective by Stephen Marsland](http://www.powells.com/book/machine-learning-9781420067187/1-1)\n",
    "![Python Machine Learning by Sebastian Raschka](http://ecx.images-amazon.com/images/I/51KGnFRB-zL._SX258_BO1,204,203,200_.jpg)\n",
    "[Python Machine Learning by Sebastian Raschka](http://www.powells.com/book/python-machine-learning-9781783555130/61-0)\n"
   ]
  },
  {
   "cell_type": "markdown",
   "metadata": {},
   "source": [
    " "
   ]
  }
 ],
 "metadata": {
  "kernelspec": {
   "display_name": "Python 2",
   "language": "python",
   "name": "python2"
  },
  "language_info": {
   "codemirror_mode": {
    "name": "ipython",
    "version": 2
   },
   "file_extension": ".py",
   "mimetype": "text/x-python",
   "name": "python",
   "nbconvert_exporter": "python",
   "pygments_lexer": "ipython2",
   "version": "2.7.10"
  }
 },
 "nbformat": 4,
 "nbformat_minor": 0
}
