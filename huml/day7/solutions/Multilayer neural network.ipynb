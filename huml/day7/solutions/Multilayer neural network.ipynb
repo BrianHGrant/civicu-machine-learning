{
 "cells": [
  {
   "cell_type": "markdown",
   "metadata": {},
   "source": [
    "# From Single layer Percetrons to Multi-layer neural networks"
   ]
  },
  {
   "cell_type": "markdown",
   "metadata": {},
   "source": [
    "### Outline\n",
    "* Multi-layer structure\n",
    "* Activation functions\n",
    "* Back-Propagation Algorithm\n",
    "* Tips\n",
    "* Stepping through Theano, Lasagne and NoLearn"
   ]
  },
  {
   "cell_type": "markdown",
   "metadata": {},
   "source": [
    "# Multi-layer structure\n",
    "![Multi-layer neural network](http://ufldl.stanford.edu/tutorial/images/Network3322.png)\n",
    "Source: http://ufldl.stanford.edu/tutorial/supervised/MultiLayerNeuralNetworks/"
   ]
  },
  {
   "cell_type": "markdown",
   "metadata": {},
   "source": [
    "# Activation functions\n",
    "* Choose an activation function which has a simple derivative\n",
    "\n",
    "## Sigmoid function\n",
    "\n",
    "$$ f(x) = \\frac{1}{1+e^{-x}} $$\n",
    "\n",
    "$$ f'(x) = f(x) (1-f(x)) $$"
   ]
  },
  {
   "cell_type": "code",
   "execution_count": 1,
   "metadata": {
    "collapsed": false
   },
   "outputs": [
    {
     "name": "stderr",
     "output_type": "stream",
     "text": [
      "/Users/hannes/.virtualenvs/hackoregon/lib/python2.7/site-packages/matplotlib/font_manager.py:273: UserWarning: Matplotlib is building the font cache using fc-list. This may take a moment.\n",
      "  warnings.warn('Matplotlib is building the font cache using fc-list. This may take a moment.')\n"
     ]
    },
    {
     "data": {
      "text/plain": [
       "(-5.0, 5.0)"
      ]
     },
     "execution_count": 1,
     "metadata": {},
     "output_type": "execute_result"
    },
    {
     "data": {
      "image/png": "[encoded data removed]",
      "text/plain": [
       "<matplotlib.figure.Figure at 0x10f052d10>"
      ]
     },
     "metadata": {},
     "output_type": "display_data"
    }
   ],
   "source": [
    "%matplotlib inline\n",
    "import numpy as np\n",
    "import matplotlib.pyplot as plt\n",
    "\n",
    "x = np.linspace(-5, 5, 1000)\n",
    "f = 1/(1+np.exp(-(x))) # +0.1 to avoid dividing by 0\n",
    "fig = plt.figure(figsize=(10,5))\n",
    "ax = fig.gca()\n",
    "ax.grid()\n",
    "plt.plot(x, f, color='black')\n",
    "plt.xlim(x.min(), x.max())"
   ]
  },
  {
   "cell_type": "markdown",
   "metadata": {
    "collapsed": true
   },
   "source": [
    "## Hyperbolic tangent function\n",
    "\n",
    "$$ f(x) = \\frac{e^x - e^{-x}}{e^x + e^{-x}} $$\n",
    "\n",
    "$$ f(x) = 2 * \\frac{1}{1+e^{-2x}} - 1$$\n",
    "\n",
    "$$ f'(x) = 1 - f(x)^2$$"
   ]
  },
  {
   "cell_type": "code",
   "execution_count": 29,
   "metadata": {
    "collapsed": false
   },
   "outputs": [
    {
     "name": "stderr",
     "output_type": "stream",
     "text": [
      "/Users/hannes/.virtualenvs/hackoregon/lib/python2.7/site-packages/matplotlib/font_manager.py:273: UserWarning: Matplotlib is building the font cache using fc-list. This may take a moment.\n",
      "  warnings.warn('Matplotlib is building the font cache using fc-list. This may take a moment.')\n"
     ]
    },
    {
     "data": {
      "text/plain": [
       "(-5.0, 5.0)"
      ]
     },
     "execution_count": 29,
     "metadata": {},
     "output_type": "execute_result"
    },
    {
     "data": {
      "image/png": "[encoded data removed]",
      "text/plain": [
       "<matplotlib.figure.Figure at 0x10f366250>"
      ]
     },
     "metadata": {},
     "output_type": "display_data"
    }
   ],
   "source": [
    "%matplotlib inline\n",
    "import numpy as np\n",
    "import matplotlib.pyplot as plt\n",
    "\n",
    "x = np.linspace(-5, 5, 1000)\n",
    "f = 2/(1+np.exp(-(2*x)))-1 # +0.1 to avoid dividing by 0\n",
    "fig = plt.figure(figsize=(10,5))\n",
    "ax = fig.gca()\n",
    "ax.grid()\n",
    "plt.plot(x, f, color='black')\n",
    "plt.xlim(x.min(), x.max())"
   ]
  },
  {
   "cell_type": "markdown",
   "metadata": {
    "collapsed": true
   },
   "source": [
    "* [Great comparison of activation functions](https://en.wikipedia.org/wiki/Activation_function)"
   ]
  },
  {
   "cell_type": "markdown",
   "metadata": {},
   "source": [
    "# Backpropagation Algorithm\n",
    "\n",
    "1. Compute forward pass by calculating the activations for $a^{(2)}$ and $a^{(3)}$\n",
    "2. Calculate the cost function $$ J(w) = \\frac{1}{2}(a^{(3)} - y)^2$$\n",
    "3. Calculate the errors $$ \\delta^{(3)} = a^{(3)} - y $$\n",
    "4. Calculate the error for the hidden layer $$ \\delta^{(2)} = (W^{(2)})^T \\delta^{(3)} * \\frac{\\delta \\phi (z^{(2)})}{\\delta z^{(2)}}$$\n",
    "Interestingly, $$ \\frac{\\delta \\phi (z^{(2)})}{\\delta z^{(2)}} = (a^{(2)} \\dot (1-a^{(2)}))$$ \n",
    "\n",
    "5. Calculate the change of the weights\n",
    "$$ \\Delta^{(l)}_{i,j} = \\Delta^{(l)}_{i,j} + a^{(l)}_{j} \\delta^{(l+1)}_{i}$$\n",
    "6. Update the weights\n",
    "$$ W^{(l)} = W^{(l)} - \\eta \\Delta^{(l)} $$"
   ]
  },
  {
   "cell_type": "markdown",
   "metadata": {
    "collapsed": true
   },
   "source": [
    " "
   ]
  },
  {
   "cell_type": "markdown",
   "metadata": {},
   "source": [
    "# Tools to calculate neural networks\n",
    "\n",
    " * Theano: Symbolic computation library for Python (Cuda support)\n",
    " * Lasagne: Neural network library based on Theano\n",
    " * NoLearn: Python wrapper for Lasagne\n"
   ]
  },
  {
   "cell_type": "markdown",
   "metadata": {},
   "source": [
    "## NoLearn\n",
    "In NoLearn, you can define the network layers as a Python list\n",
    "\n",
    "```\n",
    "layers = [\n",
    "    (InputLayer, {'shape': (1, X.shape[1],)}),\n",
    "    (DenseLayer, {'num_units': 2, 'nonlinearity': sigmoid}),\n",
    "    (DenseLayer, {'num_units': 2, 'nonlinearity': softmax}),\n",
    "]\n",
    "```\n",
    "\n",
    "and pass it to the neural network definition\n",
    "```\n",
    "net1 = NeuralNet(\n",
    "    layers=layers,\n",
    "    max_epochs=100,\n",
    "    update_learning_rate=1,\n",
    "    train_split=TrainSplit(eval_size=0),\n",
    "    verbose=3,\n",
    ")\n",
    "```\n",
    "\n",
    "Use `net.fit(X, y)` and `net.predict(X)` to train and for your prediction, respectively."
   ]
  },
  {
   "cell_type": "markdown",
   "metadata": {},
   "source": [
    "# XOR prediction with a Multi-layer neural network"
   ]
  },
  {
   "cell_type": "code",
   "execution_count": 1,
   "metadata": {
    "collapsed": false
   },
   "outputs": [
    {
     "name": "stderr",
     "output_type": "stream",
     "text": [
      "/Users/hannes/.virtualenvs/hackoregon/lib/python2.7/site-packages/theano/tensor/signal/downsample.py:5: UserWarning: downsample module has been moved to the pool module.\n",
      "  warnings.warn(\"downsample module has been moved to the pool module.\")\n"
     ]
    },
    {
     "name": "stdout",
     "output_type": "stream",
     "text": [
      "# Neural Network with 12 learnable parameters\n",
      "\n",
      "## Layer information\n",
      "\n",
      "  #  name      size\n",
      "---  ------  ------\n",
      "  0  input0       2\n",
      "  1  dense1       2\n",
      "  2  dense2       2\n",
      "\n",
      "  epoch    train loss    valid loss    train/val    valid acc  dur\n",
      "-------  ------------  ------------  -----------  -----------  -----\n",
      "      1       \u001b[36m0.87205\u001b[0m           nan          nan          nan  0.00s\n",
      "      2       \u001b[36m0.72579\u001b[0m           nan          nan          nan  0.00s\n",
      "      3       \u001b[36m0.72503\u001b[0m           nan          nan          nan  0.00s\n",
      "      4       \u001b[36m0.69634\u001b[0m           nan          nan          nan  0.00s\n",
      "      5       \u001b[36m0.69443\u001b[0m           nan          nan          nan  0.00s\n",
      "      6       \u001b[36m0.69434\u001b[0m           nan          nan          nan  0.00s\n",
      "      7       \u001b[36m0.69389\u001b[0m           nan          nan          nan  0.00s\n",
      "      8       \u001b[36m0.69376\u001b[0m           nan          nan          nan  0.00s\n",
      "      9       \u001b[36m0.69366\u001b[0m           nan          nan          nan  0.00s\n",
      "     10       \u001b[36m0.69356\u001b[0m           nan          nan          nan  0.00s\n",
      "     11       \u001b[36m0.69348\u001b[0m           nan          nan          nan  0.00s\n",
      "     12       \u001b[36m0.69340\u001b[0m           nan          nan          nan  0.00s\n",
      "     13       \u001b[36m0.69333\u001b[0m           nan          nan          nan  0.00s\n",
      "     14       \u001b[36m0.69326\u001b[0m           nan          nan          nan  0.00s\n",
      "     15       \u001b[36m0.69321\u001b[0m           nan          nan          nan  0.00s\n",
      "     16       \u001b[36m0.69316\u001b[0m           nan          nan          nan  0.00s\n",
      "     17       \u001b[36m0.69312\u001b[0m           nan          nan          nan  0.00s\n",
      "     18       \u001b[36m0.69308\u001b[0m           nan          nan          nan  0.00s\n",
      "     19       \u001b[36m0.69304\u001b[0m           nan          nan          nan  0.00s\n",
      "     20       \u001b[36m0.69301\u001b[0m           nan          nan          nan  0.00s\n",
      "     21       \u001b[36m0.69298\u001b[0m           nan          nan          nan  0.00s\n",
      "     22       \u001b[36m0.69296\u001b[0m           nan          nan          nan  0.00s\n",
      "     23       \u001b[36m0.69293\u001b[0m           nan          nan          nan  0.00s\n",
      "     24       \u001b[36m0.69290\u001b[0m           nan          nan          nan  0.00s\n",
      "     25       \u001b[36m0.69287\u001b[0m           nan          nan          nan  0.00s\n",
      "     26       \u001b[36m0.69284\u001b[0m           nan          nan          nan  0.00s\n",
      "     27       \u001b[36m0.69281\u001b[0m           nan          nan          nan  0.00s\n",
      "     28       \u001b[36m0.69277\u001b[0m           nan          nan          nan  0.00s\n",
      "     29       \u001b[36m0.69273\u001b[0m           nan          nan          nan  0.00s\n",
      "     30       \u001b[36m0.69268\u001b[0m           nan          nan          nan  0.00s\n",
      "     31       \u001b[36m0.69263\u001b[0m           nan          nan          nan  0.00s\n",
      "     32       \u001b[36m0.69256\u001b[0m           nan          nan          nan  0.00s\n",
      "     33       \u001b[36m0.69249\u001b[0m           nan          nan          nan  0.00s\n",
      "     34       \u001b[36m0.69241\u001b[0m           nan          nan          nan  0.00s\n",
      "     35       \u001b[36m0.69231\u001b[0m           nan          nan          nan  0.00s\n",
      "     36       \u001b[36m0.69220\u001b[0m           nan          nan          nan  0.00s\n",
      "     37       \u001b[36m0.69207\u001b[0m           nan          nan          nan  0.00s\n",
      "     38       \u001b[36m0.69192\u001b[0m           nan          nan          nan  0.00s\n",
      "     39       \u001b[36m0.69174\u001b[0m           nan          nan          nan  0.00s\n",
      "     40       \u001b[36m0.69153\u001b[0m           nan          nan          nan  0.00s\n",
      "     41       \u001b[36m0.69128\u001b[0m           nan          nan          nan  0.00s\n",
      "     42       \u001b[36m0.69099\u001b[0m           nan          nan          nan  0.00s\n",
      "     43       \u001b[36m0.69063\u001b[0m           nan          nan          nan  0.00s\n",
      "     44       \u001b[36m0.69021\u001b[0m           nan          nan          nan  0.00s\n",
      "     45       \u001b[36m0.68971\u001b[0m           nan          nan          nan  0.00s\n",
      "     46       \u001b[36m0.68911\u001b[0m           nan          nan          nan  0.00s\n",
      "     47       \u001b[36m0.68838\u001b[0m           nan          nan          nan  0.00s\n",
      "     48       \u001b[36m0.68751\u001b[0m           nan          nan          nan  0.00s\n",
      "     49       \u001b[36m0.68645\u001b[0m           nan          nan          nan  0.00s\n",
      "     50       \u001b[36m0.68519\u001b[0m           nan          nan          nan  0.00s\n",
      "     51       \u001b[36m0.68366\u001b[0m           nan          nan          nan  0.00s\n",
      "     52       \u001b[36m0.68183\u001b[0m           nan          nan          nan  0.00s\n",
      "     53       \u001b[36m0.67965\u001b[0m           nan          nan          nan  0.00s\n",
      "     54       \u001b[36m0.67704\u001b[0m           nan          nan          nan  0.00s\n",
      "     55       \u001b[36m0.67396\u001b[0m           nan          nan          nan  0.00s\n",
      "     56       \u001b[36m0.67033\u001b[0m           nan          nan          nan  0.00s\n",
      "     57       \u001b[36m0.66608\u001b[0m           nan          nan          nan  0.00s\n",
      "     58       \u001b[36m0.66113\u001b[0m           nan          nan          nan  0.00s\n",
      "     59       \u001b[36m0.65539\u001b[0m           nan          nan          nan  0.00s\n",
      "     60       \u001b[36m0.64880\u001b[0m           nan          nan          nan  0.00s\n",
      "     61       \u001b[36m0.64126\u001b[0m           nan          nan          nan  0.00s\n",
      "     62       \u001b[36m0.63269\u001b[0m           nan          nan          nan  0.00s\n",
      "     63       \u001b[36m0.62306\u001b[0m           nan          nan          nan  0.00s\n",
      "     64       \u001b[36m0.61237\u001b[0m           nan          nan          nan  0.00s\n",
      "     65       \u001b[36m0.60067\u001b[0m           nan          nan          nan  0.00s\n",
      "     66       \u001b[36m0.58812\u001b[0m           nan          nan          nan  0.00s\n",
      "     67       \u001b[36m0.57493\u001b[0m           nan          nan          nan  0.00s\n",
      "     68       \u001b[36m0.56133\u001b[0m           nan          nan          nan  0.00s\n",
      "     69       \u001b[36m0.54751\u001b[0m           nan          nan          nan  0.00s\n",
      "     70       \u001b[36m0.53356\u001b[0m           nan          nan          nan  0.00s\n",
      "     71       \u001b[36m0.51943\u001b[0m           nan          nan          nan  0.00s\n",
      "     72       \u001b[36m0.50499\u001b[0m           nan          nan          nan  0.00s\n",
      "     73       \u001b[36m0.49003\u001b[0m           nan          nan          nan  0.00s\n",
      "     74       \u001b[36m0.47432\u001b[0m           nan          nan          nan  0.00s\n",
      "     75       \u001b[36m0.45759\u001b[0m           nan          nan          nan  0.00s\n",
      "     76       \u001b[36m0.43950\u001b[0m           nan          nan          nan  0.00s\n",
      "     77       \u001b[36m0.41966\u001b[0m           nan          nan          nan  0.00s\n",
      "     78       \u001b[36m0.39770\u001b[0m           nan          nan          nan  0.00s\n",
      "     79       \u001b[36m0.37330\u001b[0m           nan          nan          nan  0.00s\n",
      "     80       \u001b[36m0.34637\u001b[0m           nan          nan          nan  0.00s\n",
      "     81       \u001b[36m0.31712\u001b[0m           nan          nan          nan  0.00s\n",
      "     82       \u001b[36m0.28609\u001b[0m           nan          nan          nan  0.00s\n",
      "     83       \u001b[36m0.25418\u001b[0m           nan          nan          nan  0.00s\n",
      "     84       \u001b[36m0.22244\u001b[0m           nan          nan          nan  0.00s\n",
      "     85       \u001b[36m0.19197\u001b[0m           nan          nan          nan  0.00s\n",
      "     86       \u001b[36m0.16371\u001b[0m           nan          nan          nan  0.00s\n",
      "     87       \u001b[36m0.13835\u001b[0m           nan          nan          nan  0.00s\n",
      "     88       \u001b[36m0.11623\u001b[0m           nan          nan          nan  0.00s\n"
     ]
    },
    {
     "name": "stderr",
     "output_type": "stream",
     "text": [
      "/Users/hannes/.virtualenvs/hackoregon/lib/python2.7/site-packages/numpy/core/_methods.py:59: RuntimeWarning: Mean of empty slice.\n",
      "  warnings.warn(\"Mean of empty slice.\", RuntimeWarning)\n"
     ]
    },
    {
     "name": "stdout",
     "output_type": "stream",
     "text": [
      "     89       \u001b[36m0.09739\u001b[0m           nan          nan          nan  0.00s\n",
      "     90       \u001b[36m0.08164\u001b[0m           nan          nan          nan  0.00s\n",
      "     91       \u001b[36m0.06865\u001b[0m           nan          nan          nan  0.00s\n",
      "     92       \u001b[36m0.05802\u001b[0m           nan          nan          nan  0.00s\n",
      "     93       \u001b[36m0.04936\u001b[0m           nan          nan          nan  0.00s\n",
      "     94       \u001b[36m0.04232\u001b[0m           nan          nan          nan  0.00s\n",
      "     95       \u001b[36m0.03658\u001b[0m           nan          nan          nan  0.00s\n",
      "     96       \u001b[36m0.03189\u001b[0m           nan          nan          nan  0.00s\n",
      "     97       \u001b[36m0.02804\u001b[0m           nan          nan          nan  0.00s\n",
      "     98       \u001b[36m0.02486\u001b[0m           nan          nan          nan  0.00s\n",
      "     99       \u001b[36m0.02222\u001b[0m           nan          nan          nan  0.00s\n",
      "    100       \u001b[36m0.02001\u001b[0m           nan          nan          nan  0.00s\n"
     ]
    },
    {
     "data": {
      "text/plain": [
       "NeuralNet(X_tensor_type=None,\n",
       "     batch_iterator_test=<nolearn.lasagne.base.BatchIterator object at 0x10d1b1950>,\n",
       "     batch_iterator_train=<nolearn.lasagne.base.BatchIterator object at 0x10d1b1810>,\n",
       "     custom_scores=None,\n",
       "     layers=[(<class 'lasagne.layers.input.InputLayer'>, {'shape': (1, 2)}), (<class 'lasagne.layers.dense.DenseLayer'>, {'num_units': 2, 'nonlinearity': <function sigmoid at 0x10cd240c8>}), (<class 'lasagne.layers.dense.DenseLayer'>, {'num_units': 2, 'nonlinearity': <function softmax at 0x10cd24140>})],\n",
       "     loss=None, max_epochs=100, more_params={},\n",
       "     objective=<function objective at 0x10d101500>,\n",
       "     objective_loss_function=<function categorical_crossentropy at 0x10ced5c08>,\n",
       "     on_batch_finished=[],\n",
       "     on_epoch_finished=[<nolearn.lasagne.handlers.PrintLog instance at 0x10d1b92d8>],\n",
       "     on_training_finished=[],\n",
       "     on_training_started=[<nolearn.lasagne.handlers.PrintLayerInfo instance at 0x10d1b94d0>],\n",
       "     regression=False,\n",
       "     train_split=<nolearn.lasagne.base.TrainSplit object at 0x1095c0610>,\n",
       "     update=<function nesterov_momentum at 0x10ced95f0>,\n",
       "     update_learning_rate=1, use_label_encoder=False, verbose=1,\n",
       "     y_tensor_type=TensorType(int32, vector))"
      ]
     },
     "execution_count": 1,
     "metadata": {},
     "output_type": "execute_result"
    }
   ],
   "source": [
    "import numpy as np\n",
    "\n",
    "from lasagne.layers import DenseLayer\n",
    "from lasagne.layers import InputLayer\n",
    "from lasagne.nonlinearities import softmax, sigmoid\n",
    "\n",
    "from nolearn.lasagne import TrainSplit\n",
    "from nolearn.lasagne import NeuralNet\n",
    "\n",
    "data_set = np.array([\n",
    "    [0, 0, 0],\n",
    "    [0, 1, 1],\n",
    "    [1, 0, 1],\n",
    "    [1, 1, 0],\n",
    "])\n",
    "\n",
    "X = data_set[:, :2]\n",
    "y = data_set[:, 2:]\n",
    "X = np.array(X).astype(np.float32)\n",
    "y = np.array(y).ravel().astype(np.int32)\n",
    "\n",
    "layers = [\n",
    "    (InputLayer, {'shape': (1, X.shape[1],)}),\n",
    "    (DenseLayer, {'num_units': 2, 'nonlinearity': sigmoid}),\n",
    "    (DenseLayer, {'num_units': 2, 'nonlinearity': softmax}),\n",
    "]\n",
    "\n",
    "net1 = NeuralNet(\n",
    "    layers=layers,\n",
    "    max_epochs=100,\n",
    "    update_learning_rate=1,\n",
    "    train_split=TrainSplit(eval_size=0),\n",
    "    verbose=1,\n",
    ")\n",
    "net1.fit(X, y)"
   ]
  },
  {
   "cell_type": "code",
   "execution_count": 3,
   "metadata": {
    "collapsed": false
   },
   "outputs": [
    {
     "data": {
      "text/plain": [
       "array([0])"
      ]
     },
     "execution_count": 3,
     "metadata": {},
     "output_type": "execute_result"
    }
   ],
   "source": [
    "# Test the model by predicting the output for (1, 1)\n",
    "net1.predict([[1, 1],])"
   ]
  },
  {
   "cell_type": "markdown",
   "metadata": {},
   "source": [
    "# Credit card approval prediction"
   ]
  },
  {
   "cell_type": "code",
   "execution_count": 31,
   "metadata": {
    "collapsed": false
   },
   "outputs": [
    {
     "name": "stdout",
     "output_type": "stream",
     "text": [
      "# Neural Network with 242 learnable parameters\n",
      "\n",
      "## Layer information\n",
      "\n",
      "  #  name      size\n",
      "---  ------  ------\n",
      "  0  input0      21\n",
      "  1  dense1      10\n",
      "  2  dense2       2\n",
      "\n",
      "  epoch    train loss    valid loss    train/val    valid acc  dur\n",
      "-------  ------------  ------------  -----------  -----------  -----\n",
      "      1       \u001b[36m1.39193\u001b[0m       \u001b[32m1.04366\u001b[0m      1.33371      0.50000  0.00s\n",
      "      2       1.40495       \u001b[32m0.76525\u001b[0m      1.83593      0.50000  0.00s\n",
      "      3       \u001b[36m1.01959\u001b[0m       \u001b[32m0.67230\u001b[0m      1.51657      0.50000  0.00s\n",
      "      4       \u001b[36m0.92824\u001b[0m       \u001b[32m0.64318\u001b[0m      1.44320      0.63333  0.00s\n",
      "      5       \u001b[36m0.89540\u001b[0m       0.64808      1.38163      0.53333  0.00s\n",
      "      6       0.93064       0.64499      1.44289      0.53333  0.00s\n",
      "      7       0.93423       \u001b[32m0.63382\u001b[0m      1.47396      0.63333  0.00s\n",
      "      8       0.90012       \u001b[32m0.63156\u001b[0m      1.42523      0.56667  0.00s\n",
      "      9       \u001b[36m0.88556\u001b[0m       \u001b[32m0.62469\u001b[0m      1.41760      0.56667  0.00s\n",
      "     10       \u001b[36m0.86888\u001b[0m       \u001b[32m0.61199\u001b[0m      1.41976      0.63333  0.00s\n",
      "     11       \u001b[36m0.84321\u001b[0m       \u001b[32m0.59918\u001b[0m      1.40729      0.63333  0.00s\n",
      "     12       \u001b[36m0.82486\u001b[0m       \u001b[32m0.58541\u001b[0m      1.40902      0.63333  0.00s\n",
      "     13       \u001b[36m0.81505\u001b[0m       \u001b[32m0.56946\u001b[0m      1.43126      0.70000  0.00s\n",
      "     14       \u001b[36m0.80595\u001b[0m       \u001b[32m0.55192\u001b[0m      1.46027      0.76667  0.00s\n",
      "     15       \u001b[36m0.79025\u001b[0m       \u001b[32m0.53487\u001b[0m      1.47745      0.83333  0.00s\n",
      "     16       \u001b[36m0.76896\u001b[0m       \u001b[32m0.51915\u001b[0m      1.48120      0.86667  0.00s\n",
      "     17       \u001b[36m0.74681\u001b[0m       \u001b[32m0.50403\u001b[0m      1.48170      0.83333  0.00s\n",
      "     18       \u001b[36m0.72535\u001b[0m       \u001b[32m0.48906\u001b[0m      1.48316      0.86667  0.00s\n",
      "     19       \u001b[36m0.70488\u001b[0m       \u001b[32m0.47453\u001b[0m      1.48541      0.83333  0.00s\n",
      "     20       \u001b[36m0.68641\u001b[0m       \u001b[32m0.46098\u001b[0m      1.48903      0.80000  0.00s\n",
      "     21       \u001b[36m0.67087\u001b[0m       \u001b[32m0.44874\u001b[0m      1.49500      0.80000  0.00s\n",
      "     22       \u001b[36m0.65772\u001b[0m       \u001b[32m0.43781\u001b[0m      1.50231      0.80000  0.00s\n",
      "     23       \u001b[36m0.64518\u001b[0m       \u001b[32m0.42807\u001b[0m      1.50718      0.76667  0.00s\n",
      "     24       \u001b[36m0.63234\u001b[0m       \u001b[32m0.41948\u001b[0m      1.50743      0.80000  0.00s\n",
      "     25       \u001b[36m0.61993\u001b[0m       \u001b[32m0.41189\u001b[0m      1.50510      0.80000  0.00s\n",
      "     26       \u001b[36m0.60850\u001b[0m       \u001b[32m0.40506\u001b[0m      1.50226      0.83333  0.00s\n",
      "     27       \u001b[36m0.59819\u001b[0m       \u001b[32m0.39878\u001b[0m      1.50004      0.83333  0.00s\n",
      "     28       \u001b[36m0.58921\u001b[0m       \u001b[32m0.39291\u001b[0m      1.49960      0.90000  0.00s\n",
      "     29       \u001b[36m0.58171\u001b[0m       \u001b[32m0.38742\u001b[0m      1.50149      0.90000  0.00s\n",
      "     30       \u001b[36m0.57553\u001b[0m       \u001b[32m0.38236\u001b[0m      1.50520      0.90000  0.00s\n",
      "     31       \u001b[36m0.57032\u001b[0m       \u001b[32m0.37781\u001b[0m      1.50955      0.90000  0.00s\n",
      "     32       \u001b[36m0.56566\u001b[0m       \u001b[32m0.37379\u001b[0m      1.51332      0.93333  0.00s\n",
      "     33       \u001b[36m0.56127\u001b[0m       \u001b[32m0.37029\u001b[0m      1.51574      0.93333  0.00s\n",
      "     34       \u001b[36m0.55699\u001b[0m       \u001b[32m0.36726\u001b[0m      1.51663      0.93333  0.00s\n",
      "     35       \u001b[36m0.55278\u001b[0m       \u001b[32m0.36456\u001b[0m      1.51628      0.93333  0.00s\n",
      "     36       \u001b[36m0.54862\u001b[0m       \u001b[32m0.36208\u001b[0m      1.51522      0.93333  0.00s\n",
      "     37       \u001b[36m0.54458\u001b[0m       \u001b[32m0.35968\u001b[0m      1.51407      0.93333  0.00s\n",
      "     38       \u001b[36m0.54068\u001b[0m       \u001b[32m0.35728\u001b[0m      1.51332      0.93333  0.00s\n",
      "     39       \u001b[36m0.53695\u001b[0m       \u001b[32m0.35483\u001b[0m      1.51327      0.93333  0.00s\n",
      "     40       \u001b[36m0.53342\u001b[0m       \u001b[32m0.35232\u001b[0m      1.51400      0.93333  0.00s\n",
      "     41       \u001b[36m0.53006\u001b[0m       \u001b[32m0.34977\u001b[0m      1.51545      0.93333  0.00s\n",
      "     42       \u001b[36m0.52687\u001b[0m       \u001b[32m0.34720\u001b[0m      1.51748      0.93333  0.00s\n",
      "     43       \u001b[36m0.52381\u001b[0m       \u001b[32m0.34463\u001b[0m      1.51995      0.93333  0.00s\n",
      "     44       \u001b[36m0.52088\u001b[0m       \u001b[32m0.34206\u001b[0m      1.52279      0.93333  0.00s\n",
      "     45       \u001b[36m0.51805\u001b[0m       \u001b[32m0.33949\u001b[0m      1.52597      0.93333  0.00s\n",
      "     46       \u001b[36m0.51530\u001b[0m       \u001b[32m0.33691\u001b[0m      1.52950      0.93333  0.00s\n",
      "     47       \u001b[36m0.51265\u001b[0m       \u001b[32m0.33431\u001b[0m      1.53342      0.93333  0.00s\n",
      "     48       \u001b[36m0.51008\u001b[0m       \u001b[32m0.33170\u001b[0m      1.53777      0.93333  0.00s\n",
      "     49       \u001b[36m0.50760\u001b[0m       \u001b[32m0.32906\u001b[0m      1.54255      0.93333  0.00s\n",
      "     50       \u001b[36m0.50521\u001b[0m       \u001b[32m0.32642\u001b[0m      1.54772      0.93333  0.00s\n"
     ]
    },
    {
     "data": {
      "text/plain": [
       "NeuralNet(X_tensor_type=None,\n",
       "     batch_iterator_test=<nolearn.lasagne.base.BatchIterator object at 0x10d1b1950>,\n",
       "     batch_iterator_train=<nolearn.lasagne.base.BatchIterator object at 0x10d1b1810>,\n",
       "     custom_scores=None,\n",
       "     layers=[(<class 'lasagne.layers.input.InputLayer'>, {'shape': (None, 21)}), (<class 'lasagne.layers.dense.DenseLayer'>, {'num_units': 10, 'nonlinearity': <function tanh at 0x10cd241b8>}), (<class 'lasagne.layers.dense.DenseLayer'>, {'num_units': 2, 'nonlinearity': <function softmax at 0x10cd24140>})],\n",
       "     loss=None, max_epochs=50, more_params={},\n",
       "     objective=<function objective at 0x10d101500>,\n",
       "     objective_loss_function=<function categorical_crossentropy at 0x10ced5c08>,\n",
       "     on_batch_finished=[],\n",
       "     on_epoch_finished=[<nolearn.lasagne.handlers.PrintLog instance at 0x1103e8200>],\n",
       "     on_training_finished=[],\n",
       "     on_training_started=[<nolearn.lasagne.handlers.PrintLayerInfo instance at 0x1103c6d40>],\n",
       "     regression=False,\n",
       "     train_split=<nolearn.lasagne.base.TrainSplit object at 0x1109a44d0>,\n",
       "     update=<function nesterov_momentum at 0x10ced95f0>,\n",
       "     update_learning_rate=0.1, use_label_encoder=False, verbose=2,\n",
       "     y_tensor_type=TensorType(int32, vector))"
      ]
     },
     "execution_count": 31,
     "metadata": {},
     "output_type": "execute_result"
    }
   ],
   "source": [
    "# data from https://onlinecourses.science.psu.edu/stat857/node/215\n",
    "import pandas as pd\n",
    "import numpy as np\n",
    "from lasagne.layers import DenseLayer\n",
    "from lasagne.layers import InputLayer\n",
    "from lasagne.nonlinearities import softmax, tanh\n",
    "\n",
    "from nolearn.lasagne import NeuralNet\n",
    "from nolearn.lasagne import TrainSplit\n",
    "\n",
    "training_set = pd.read_csv('../../data/German_credit_card_training_500.csv')\n",
    "training_set = training_set.sort_values(\n",
    "    ['Creditability',]).head(\n",
    "    2 * len(training_set[(training_set['Creditability'] == 0)])\n",
    ")\n",
    "# test_set = pd.read_csv('german_credit_dataset/Test50.csv')\n",
    "# extract the creditability column as y vector\n",
    "y = training_set['Creditability'].values\n",
    "# drop the creditability column from the dataset\n",
    "training_set.drop('Creditability', axis=1, inplace=True)\n",
    "\n",
    "# remaining dataset is used as input matrix\n",
    "X = np.array(training_set.values).astype(np.float32)\n",
    "y = np.array(y).astype(np.int32)\n",
    "\n",
    "# apply some very simple normalization to the data\n",
    "X -= X.mean()\n",
    "X /= X.std()\n",
    "\n",
    "credit_approval_net = NeuralNet(\n",
    "    layers=[  # three layers: one hidden layer\n",
    "        (InputLayer, {'shape': (None, X.shape[1],)}),\n",
    "        (DenseLayer, {'num_units': 10, 'nonlinearity': tanh}),\n",
    "        (DenseLayer, {'num_units': 2, 'nonlinearity': softmax}),\n",
    "        ],\n",
    "    update_learning_rate=0.1,\n",
    "    max_epochs=50,  # we want to train this many epochs\n",
    "    verbose=2,\n",
    "    train_split=TrainSplit(eval_size=0.1),\n",
    "    )\n",
    "\n",
    "credit_approval_net.fit(X, y)"
   ]
  },
  {
   "cell_type": "code",
   "execution_count": 28,
   "metadata": {
    "collapsed": false
   },
   "outputs": [
    {
     "data": {
      "text/plain": [
       "0.8949044585987261"
      ]
     },
     "execution_count": 28,
     "metadata": {},
     "output_type": "execute_result"
    }
   ],
   "source": [
    "# determine score on test set\n",
    "training_set = pd.read_csv('../../data/German_credit_card_test_500.csv')\n",
    "training_set = training_set.sort_values(\n",
    "    ['Creditability',]).head(\n",
    "    2 * len(training_set[(training_set['Creditability'] == 0)])\n",
    ")\n",
    "# test_set = pd.read_csv('german_credit_dataset/Test50.csv')\n",
    "# extract the creditability column as y vector\n",
    "y_test = training_set['Creditability'].values\n",
    "# drop the creditability column from the dataset\n",
    "training_set.drop('Creditability', axis=1, inplace=True)\n",
    "\n",
    "# remaining dataset is used as input matrix\n",
    "X_test = np.array(training_set.values).astype(np.float32)\n",
    "y_test = np.array(y_test).astype(np.int32)\n",
    "\n",
    "# apply some very simple normalization to the data\n",
    "X_test -= X_test.mean()\n",
    "X_test /= X_test.std()\n",
    "\n",
    "# run test set with test data\n",
    "credit_approval_net.score(X_test, y_test)"
   ]
  },
  {
   "cell_type": "markdown",
   "metadata": {},
   "source": [
    "## Classify hand-written numbers"
   ]
  },
  {
   "cell_type": "code",
   "execution_count": 59,
   "metadata": {
    "collapsed": false
   },
   "outputs": [],
   "source": [
    "import cPickle, gzip, numpy\n",
    "\n",
    "# Load the dataset\n",
    "f = gzip.open('../../data/mnist.pkl.gz', 'rb')\n",
    "training_set, valid_set, test_set = cPickle.load(f)\n",
    "f.close()"
   ]
  },
  {
   "cell_type": "code",
   "execution_count": 60,
   "metadata": {
    "collapsed": false
   },
   "outputs": [],
   "source": [
    "X_train = training_set[0]\n",
    "y_train = training_set[1]\n",
    "X_test = test_set[0]\n",
    "y_test = test_set[1]"
   ]
  },
  {
   "cell_type": "code",
   "execution_count": 67,
   "metadata": {
    "collapsed": false
   },
   "outputs": [
    {
     "name": "stdout",
     "output_type": "stream",
     "text": [
      "Populating the interactive namespace from numpy and matplotlib\n"
     ]
    },
    {
     "data": {
      "image/png": "[encoded data removed]",
      "text/plain": [
       "<matplotlib.figure.Figure at 0x112df51d0>"
      ]
     },
     "metadata": {},
     "output_type": "display_data"
    }
   ],
   "source": [
    "import matplotlib\n",
    "import matplotlib.pyplot as plt\n",
    "%pylab inline\n",
    "\n",
    "def get_images(training_set):\n",
    "    \"\"\" Return a list containing the images from the MNIST data\n",
    "    set. Each image is represented as a 2-d numpy array.\n",
    "    \n",
    "    source: https://github.com/mnielsen/neural-networks-and-deep-learning/blob/master/fig/mnist.py\n",
    "    \"\"\"\n",
    "    flattened_images = training_set[0]\n",
    "    return [np.reshape(f, (-1, 28)) for f in flattened_images]\n",
    "\n",
    "def plot_10_by_10_images(images):\n",
    "    \"\"\" Plot 100 MNIST images in a 10 by 10 table. \"\"\"\n",
    "    figs, axes = plt.subplots(4, 4, figsize=(6, 6))\n",
    "    for i in range(4):\n",
    "        for j in range(4):\n",
    "            axes[i, j].imshow(-X_train[i + 4 * j].reshape(28, 28), cmap='gray', interpolation='none')\n",
    "            axes[i, j].set_xticks([])\n",
    "            axes[i, j].set_yticks([])\n",
    "            axes[i, j].set_title(\"Label: {}\".format(y[i + 4 * j]))\n",
    "            axes[i, j].axis('off')\n",
    "    \n",
    "images = get_images(training_set)\n",
    "plot_10_by_10_images(images)"
   ]
  },
  {
   "cell_type": "code",
   "execution_count": 45,
   "metadata": {
    "collapsed": false
   },
   "outputs": [
    {
     "name": "stdout",
     "output_type": "stream",
     "text": [
      "# Neural Network with 39760 learnable parameters\n",
      "\n",
      "## Layer information\n",
      "\n",
      "  #  name      size\n",
      "---  ------  ------\n",
      "  0  input0     784\n",
      "  1  dense1      50\n",
      "  2  dense2      10\n",
      "\n",
      "  epoch    train loss    valid loss    train/val    valid acc  dur\n",
      "-------  ------------  ------------  -----------  -----------  -----\n",
      "      1       \u001b[36m0.39082\u001b[0m       \u001b[32m0.22913\u001b[0m      1.70565      0.93354  0.54s\n",
      "      2       \u001b[36m0.19555\u001b[0m       \u001b[32m0.17811\u001b[0m      1.09797      0.94737  0.65s\n",
      "      3       \u001b[36m0.15028\u001b[0m       \u001b[32m0.15636\u001b[0m      0.96113      0.95204  0.51s\n",
      "      4       \u001b[36m0.12384\u001b[0m       \u001b[32m0.14538\u001b[0m      0.85181      0.95535  0.63s\n",
      "      5       \u001b[36m0.10512\u001b[0m       \u001b[32m0.13777\u001b[0m      0.76300      0.95662  0.59s\n"
     ]
    },
    {
     "data": {
      "text/plain": [
       "NeuralNet(X_tensor_type=None,\n",
       "     batch_iterator_test=<nolearn.lasagne.base.BatchIterator object at 0x10d1b1950>,\n",
       "     batch_iterator_train=<nolearn.lasagne.base.BatchIterator object at 0x10d1b1810>,\n",
       "     custom_scores=None,\n",
       "     layers=[(<class 'lasagne.layers.input.InputLayer'>, {'shape': (None, 784)}), (<class 'lasagne.layers.dense.DenseLayer'>, {'num_units': 50, 'nonlinearity': <function sigmoid at 0x10cd240c8>}), (<class 'lasagne.layers.dense.DenseLayer'>, {'num_units': 10, 'nonlinearity': <function softmax at 0x10cd24140>})],\n",
       "     loss=None, max_epochs=5, more_params={},\n",
       "     objective=<function objective at 0x10d101500>,\n",
       "     objective_loss_function=<function categorical_crossentropy at 0x10ced5c08>,\n",
       "     on_batch_finished=[],\n",
       "     on_epoch_finished=[<nolearn.lasagne.handlers.PrintLog instance at 0x1103bc878>],\n",
       "     on_training_finished=[],\n",
       "     on_training_started=[<nolearn.lasagne.handlers.PrintLayerInfo instance at 0x110c48878>],\n",
       "     regression=False,\n",
       "     train_split=<nolearn.lasagne.base.TrainSplit object at 0x110cea790>,\n",
       "     update=<function nesterov_momentum at 0x10ced95f0>,\n",
       "     update_learning_rate=0.1, use_label_encoder=False, verbose=2,\n",
       "     y_tensor_type=TensorType(int32, vector))"
      ]
     },
     "execution_count": 45,
     "metadata": {},
     "output_type": "execute_result"
    }
   ],
   "source": [
    "import pandas as pd\n",
    "import numpy as np\n",
    "from lasagne.layers import DenseLayer\n",
    "from lasagne.layers import InputLayer\n",
    "from lasagne.nonlinearities import softmax, tanh\n",
    "\n",
    "from nolearn.lasagne import NeuralNet\n",
    "from nolearn.lasagne import TrainSplit\n",
    "\n",
    "X = X_train.astype(np.float32)\n",
    "y = y_train.astype(np.int32)\n",
    "\n",
    "# apply some very simple normalization to the data\n",
    "X -= X.mean()\n",
    "X /= X.std()\n",
    "\n",
    "mnist_net = NeuralNet(\n",
    "    layers=[  # three layers: one hidden layer\n",
    "        (InputLayer, {'shape': (None, X.shape[1], )}),\n",
    "        (DenseLayer, {'num_units': 50, 'nonlinearity': sigmoid}),\n",
    "        (DenseLayer, {'num_units': 10, 'nonlinearity': softmax}),\n",
    "        ],\n",
    "    update_learning_rate=0.1,\n",
    "    max_epochs=5,  # we want to train this many epochs\n",
    "    verbose=2,\n",
    "    train_split=TrainSplit(eval_size=0.25),\n",
    "    )\n",
    "\n",
    "mnist_net.fit(X, y)"
   ]
  },
  {
   "cell_type": "code",
   "execution_count": 46,
   "metadata": {
    "collapsed": false
   },
   "outputs": [
    {
     "data": {
      "text/plain": [
       "0.9053"
      ]
     },
     "execution_count": 46,
     "metadata": {},
     "output_type": "execute_result"
    }
   ],
   "source": [
    "mnist_net.score(X_test, y_test)"
   ]
  },
  {
   "cell_type": "markdown",
   "metadata": {},
   "source": [
    "# Tips"
   ]
  },
  {
   "cell_type": "markdown",
   "metadata": {},
   "source": [
    "* [Effective Backpropagation, pdf](http://yann.lecun.com/exdb/publis/pdf/lecun-98b.pdf)\n",
    "* [Comparison of activation functions](https://en.wikipedia.org/wiki/Activation_function)\n",
    "* [Introduction to Theano](http://on-demand.gputechconf.com/gtc/2015/webinar/deep-learning-course/getting-started-with-theano.pdf)"
   ]
  },
  {
   "cell_type": "code",
   "execution_count": null,
   "metadata": {
    "collapsed": true
   },
   "outputs": [],
   "source": []
  }
 ],
 "metadata": {
  "kernelspec": {
   "display_name": "Python 2",
   "language": "python",
   "name": "python2"
  },
  "language_info": {
   "codemirror_mode": {
    "name": "ipython",
    "version": 2
   },
   "file_extension": ".py",
   "mimetype": "text/x-python",
   "name": "python",
   "nbconvert_exporter": "python",
   "pygments_lexer": "ipython2",
   "version": "2.7.10"
  }
 },
 "nbformat": 4,
 "nbformat_minor": 0
}
